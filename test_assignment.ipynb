{
 "cells": [
  {
   "cell_type": "markdown",
   "id": "5b5e41ec",
   "metadata": {},
   "source": [
    "# 🧪 Тестовое задание для аналитика"
   ]
  },
  {
   "cell_type": "markdown",
   "id": "aa90b669",
   "metadata": {},
   "source": [
    "\n",
    "Добро пожаловать! Это тестовое задание поможет нам оценить ваше знание Python (pandas), SQL, работы с базой данных, а также базовые навыки работы с Docker и сервером.\n",
    "\n",
    "📁 Данные: в папке находится файл `orders_report.xlsx`, содержащий «грязные» данные из CRM.\n",
    "\n",
    "Заполните ячейки ниже.\n"
   ]
  },
  {
   "cell_type": "markdown",
   "id": "330109ca",
   "metadata": {},
   "source": [
    "## 1. Обработка Excel-файла"
   ]
  },
  {
   "cell_type": "markdown",
   "id": "c44919ba",
   "metadata": {},
   "source": [
    "\n",
    "🔹 **Задание:**\n",
    "- СДЕЛАТЬ EDA АНАЛИЗ;\n",
    "- ОБРАБОТАТЬ ДАННЫЕ, ПОЧИСТИТЬ И НЕ ПОТЕРЯТЬ ВАЖНЫЕ ДАННЫЕ\n",
    "\n",
    "- ПОСЧИТАТЬ:\n",
    "  - количество уникальных заказов;\n",
    "  - топ-3 товара по выручке;\n",
    "  - средний чек по каналу продаж.\n"
   ]
  },
  {
   "cell_type": "markdown",
   "id": "cba5116e",
   "metadata": {},
   "source": [
    "✏️ **Ответ:**"
   ]
  },
  {
   "cell_type": "code",
   "execution_count": null,
   "id": "10837219",
   "metadata": {},
   "outputs": [],
   "source": [
    "# Ответ\n"
   ]
  },
  {
   "cell_type": "markdown",
   "id": "43f1727c",
   "metadata": {},
   "source": [
    "### 2. Загрузка данных в БД (**ОТРАЗИТЬ СИНТАКСИС И ШАГИ, К САМОЙ БД ПОДКЛЮЧАТЬСЯ НЕ НУЖНО!**)\n",
    "\n",
    "### Задание:\n",
    "\n",
    "    - Подключиться к БД \n",
    "        Пользователь - testuser\n",
    "        Пароль - password  \n",
    "        БД - testdb\n",
    "        ХОСТ - localhost\n",
    "        ПОРТ - 5432\n",
    "\n",
    "    - СОЗДАТЬ таблицу \"orders_cleaned\" и загрузить датафрейм из 1-го задания\n",
    "    - Завершить подключение\n"
   ]
  },
  {
   "cell_type": "markdown",
   "id": "ed8586ea",
   "metadata": {},
   "source": [
    "✏️ **Ответ:**"
   ]
  },
  {
   "cell_type": "code",
   "execution_count": null,
   "id": "a1bf5cb8",
   "metadata": {},
   "outputs": [],
   "source": [
    "# ОТВЕТ"
   ]
  },
  {
   "cell_type": "markdown",
   "id": "bd434e69",
   "metadata": {},
   "source": [
    "## 3. SQL-запросы"
   ]
  },
  {
   "cell_type": "markdown",
   "id": "b6bed055",
   "metadata": {},
   "source": [
    "\n",
    "Допустим, в БД появилась таблица `orders_cleaned`.\n",
    "\n",
    "✍️ Напишите SQL-запросы:\n",
    "\n",
    "1. Выручка по каждому товару за последний месяц.\n",
    "2. Клиенты, сделавшие более 3 заказов.\n",
    "3. Заказы, в которых одновременно есть товары X и Y.\n"
   ]
  },
  {
   "cell_type": "code",
   "execution_count": null,
   "id": "eb20eee1",
   "metadata": {},
   "outputs": [],
   "source": [
    "# ОТВЕТ "
   ]
  },
  {
   "cell_type": "markdown",
   "id": "3e00d4ba",
   "metadata": {},
   "source": [
    "## 4. Docker и серверные команды"
   ]
  },
  {
   "cell_type": "markdown",
   "id": "68ac8622",
   "metadata": {},
   "source": [
    "\n",
    "✏️ Ответьте на следующие вопросы:\n",
    "\n",
    "1. Как упаковать этот скрипт в Docker-контейнер?\n",
    "2. Какие команды используете для:\n",
    "   - перезапуска контейнера\n",
    "   - просмотра логов\n",
    "   - остановки зависшего процесса\n",
    "3. Как бы вы настроили запуск скрипта каждый день в 8:00 через cron?\n",
    "4. Что делать, если команда на сервере \"зависла\"? Как дебажить?\n"
   ]
  },
  {
   "cell_type": "code",
   "execution_count": null,
   "id": "15e79088",
   "metadata": {},
   "outputs": [],
   "source": [
    "# ОТВЕТ "
   ]
  },
  {
   "cell_type": "markdown",
   "id": "db39d8cc",
   "metadata": {},
   "source": [
    "---\n",
    "📨 Спасибо за выполнение задания!"
   ]
  }
 ],
 "metadata": {
  "language_info": {
   "name": "python"
  }
 },
 "nbformat": 4,
 "nbformat_minor": 5
}
